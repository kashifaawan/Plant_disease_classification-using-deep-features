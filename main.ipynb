{
 "cells": [
  {
   "cell_type": "code",
   "execution_count": null,
   "metadata": {},
   "outputs": [],
   "source": [
    "import psutil\n",
    "import humanize\n",
    "import os\n",
    "from IPython.display import display_html\n",
    "import numpy as np # linear algebra\n",
    "import pandas as pd # data processing, CSV file I/O (e.g. pd.read_csv)\n",
    "import os\n",
    "\n",
    "print(os.listdir(\"../input\"))\n",
    "dataDirectory= \"./input/plantdisease-upd1\"\n",
    "print(os.listdir(dataDirectory))\n",
    "\n"
   ]
  },
  {
   "cell_type": "code",
   "execution_count": null,
   "metadata": {
    "_cell_guid": "b1076dfc-b9ad-4769-8c92-a6c4dae69d19",
    "_uuid": "8f2839f25d086af736a60e9eeb907d3b93b6e0e5"
   },
   "outputs": [],
   "source": []
  },
  {
   "cell_type": "code",
   "execution_count": null,
   "metadata": {},
   "outputs": [],
   "source": [
    "import numpy as np\n",
    "import keras\n",
    "import cv2\n",
    "from time import time\n",
    "from keras import backend as K\n",
    "from keras.models import Sequential\n",
    "from keras.models import Model\n",
    "from keras.layers.core import Flatten\n",
    "from keras.preprocessing.image import ImageDataGenerator\n",
    "from keras.layers import Flatten\n",
    "from keras.applications.resnet50 import ResNet50\n",
    "from keras.preprocessing import image\n",
    "from keras.applications.resnet50 import preprocess_input, decode_predictions\n",
    "from tensorflow.keras.utils import to_categorical\n",
    "from sklearn.preprocessing import LabelEncoder  \n",
    "from sklearn.preprocessing import LabelBinarizer\n",
    "from sklearn.model_selection import train_test_split\n",
    "from sklearn.metrics import confusion_matrix\n",
    "from sklearn.metrics import average_precision_score\n",
    "from sklearn.metrics import recall_score\n",
    "from sklearn.metrics import precision_score\n",
    "from sklearn.metrics import accuracy_score\n",
    "from sklearn.metrics import classification_report\n",
    "from imutils import paths\n",
    "import itertools\n",
    "import matplotlib.pyplot as plt\n",
    "import time\n",
    "import pandas as pd\n",
    "%matplotlib inline"
   ]
  },
  {
   "cell_type": "code",
   "execution_count": null,
   "metadata": {},
   "outputs": [],
   "source": [
    "print(\"[INFO] loading images...\")\n",
    "imagePaths = list(paths.list_images(\"/kaggle/input/plantdisease-upd1\"))"
   ]
  },
  {
   "cell_type": "code",
   "execution_count": null,
   "metadata": {},
   "outputs": [],
   "source": [
    "Classes_names=['Pepper_Bacterial', 'Potato_healthy', 'Tomato_Leaf_Mold', 'Tomato_YellowLeaf_Virus', 'Tomato_Bacterial_spot', 'Tomato_Septoria_spot', 'Tomato_healthy', 'Tomato_spider_mite', 'Tomato_Early_blight', 'Tomato_Target_Spot', 'Pepper_healthy', 'Potato_Late_blight', 'Tomato_Late_blight', 'Potato_Early_blight', 'Tomato_mosaic_virus']"
   ]
  },
  {
   "cell_type": "code",
   "execution_count": null,
   "metadata": {},
   "outputs": [],
   "source": [
    "images_path = dataDirectory+'/PlantVillage_upd1'\n",
    "images_datagen = ImageDataGenerator()            # used for image transformations in the current scenario used for plotting"
   ]
  },
  {
   "cell_type": "code",
   "execution_count": null,
   "metadata": {},
   "outputs": [],
   "source": [
    "img_generator = images_datagen.flow_from_directory(\n",
    "    images_path ,\n",
    "    color_mode=\"rgb\",\n",
    "    target_size=(224,224),\n",
    "    )"
   ]
  },
  {
   "cell_type": "code",
   "execution_count": null,
   "metadata": {},
   "outputs": [],
   "source": [
    " # Defining a function for customizable plot\n",
    "def plots(ims, figsize = (22,22), rows=4, interp=False, titles=None, maxNum = 9):\n",
    "    if type(ims[0] is np.ndarray):\n",
    "        ims = np.array(ims).astype(np.uint8)\n",
    "        if(ims.shape[-1] != 3):\n",
    "            ims = ims.transpose((0,2,3,1))\n",
    "           \n",
    "    f = plt.figure(figsize=figsize)\n",
    "    #cols = len(ims) //rows if len(ims) % 2 == 0 else len(ims)//rows + 1\n",
    "    cols = maxNum // rows if maxNum % 2 == 0 else maxNum//rows + 1\n",
    "    #for i in range(len(ims)):\n",
    "    for i in range(maxNum):\n",
    "        sp = f.add_subplot(rows, cols, i+1)\n",
    "        sp.axis('Off')\n",
    "        if titles is not None:\n",
    "            sp.set_title(titles[i], fontsize=20)\n",
    "        plt.imshow(ims[i], interpolation = None if interp else 'none')  "
   ]
  },
  {
   "cell_type": "code",
   "execution_count": null,
   "metadata": {},
   "outputs": [],
   "source": [
    "imgs, labels = img_generator.next()\n",
    "labelNames=[]\n",
    "labelIndices=[np.where(r==1)[0][0] for r in labels]\n",
    "#print(labelIndices)\n",
    "\n",
    "for ind in labelIndices:\n",
    "    for labelName,labelIndex in img_generator.class_indices.items():\n",
    "        if labelIndex == ind:\n",
    "            #print (labelName)\n",
    "            labelNames.append(labelName)\n"
   ]
  },
  {
   "cell_type": "code",
   "execution_count": null,
   "metadata": {},
   "outputs": [],
   "source": [
    "plots(imgs, rows=6, titles = labelNames, maxNum=15)"
   ]
  },
  {
   "cell_type": "code",
   "execution_count": null,
   "metadata": {},
   "outputs": [],
   "source": [
    "# Importing Resnet50 model from keras for feature extraction\n",
    "from keras.models import Sequential\n",
    "from keras.models import Model\n",
    "model=Sequential()   #creating our model to obtain features\n",
    "Resnet_base_model = ResNet50(weights='imagenet', include_top=False,input_shape=(224, 224,3))  #removing top layer\n",
    "Resnet_base_model.summary()\n",
    "model.add(Resnet_base_model)\n",
    "model.add(Flatten())   # obtaining a feature vector along a single axis\n",
    "model.summary()\n",
    "#Resnet_base_model.summary()"
   ]
  },
  {
   "cell_type": "code",
   "execution_count": null,
   "metadata": {},
   "outputs": [],
   "source": [
    "feature_matrix=[]  # declaring an empty array for feature storage\n",
    "labels = []       #  declaring labels array \n",
    "\n",
    "# loop over the image paths\n",
    "for imagePath in imagePaths:\n",
    "    # extract the class label from the filename\n",
    "           label = imagePath.split(os.path.sep)[-2]   # obtain a label from the class folder \n",
    "    # load the image, swap color channels, and resize it to be a fixed\n",
    "    # 224x224 pixels while ignoring aspect ratio\n",
    "           image = cv2.imread(imagePath)\n",
    "           image = cv2.cvtColor(image, cv2.COLOR_BGR2RGB)\n",
    "           image = cv2.resize(image, (224, 224))\n",
    "           image = image.reshape(1,224,224,3) # update the data and labels lists, respectively\n",
    "           image = preprocess_input(image)      #convert to a scale that model uses    \n",
    "           features = model.predict(image)\n",
    "           feature_matrix.append(features)\n",
    "           labels.append(label)\n",
    "          \n",
    "# converting the data and labels to NumPy arrays while scaling the pixel\n",
    "# intensities to the range [0, 1]   i-e normalization\n",
    "feature_matrix=np.array(feature_matrix)/255     \n",
    "labels=np.array(labels)\n"
   ]
  },
  {
   "cell_type": "code",
   "execution_count": null,
   "metadata": {},
   "outputs": [],
   "source": [
    "le = LabelEncoder()            #encode labels\n",
    "kk=le.fit_transform(labels)    #Assign integer labels\n",
    "Classes=le.classes_            #number of unique classes\n",
    "labels = to_categorical(kk)    # assign binary numeric array to labels\n",
    "labels"
   ]
  },
  {
   "cell_type": "code",
   "execution_count": null,
   "metadata": {},
   "outputs": [],
   "source": [
    "#Obtaining training (80%) and testing (20%) data using holdout\n",
    "\n",
    "(trainX, testX, trainY, testY) = train_test_split(feature_matrix, labels,\n",
    "    test_size=0.20, stratify=labels, random_state=0)\n",
    "print('Train size: {train}, Test size: {test}'.format(train=trainX.shape[0], test=testX.shape[0]))"
   ]
  },
  {
   "cell_type": "code",
   "execution_count": null,
   "metadata": {},
   "outputs": [],
   "source": [
    "trainX=trainX[:,0,]     #get the desired shape (number of samples, size of feature vector) (i-e 2662,100352)\n",
    "print(trainX.shape)\n",
    "testX=testX[:,0,]     #get the desired shape (number of samples, size of feature vector) (i-e 666,100352)\n",
    "print(testX.shape)\n"
   ]
  },
  {
   "cell_type": "code",
   "execution_count": null,
   "metadata": {},
   "outputs": [],
   "source": [
    "np.random.seed(0)         \n",
    "INPUT_LENGTH = 100352    #FEATURE VECTOR DIMENSION\n",
    "HIDDEN_UNITS = 1000       #NUMBER OF NEURONS\n",
    "\n",
    "Win = np.random.normal(size=[INPUT_LENGTH, HIDDEN_UNITS])     #RANDOM INITIALIZATION OF WEIGHTS\n",
    "print('Input Weight shape: {shape}'.format(shape=Win.shape))"
   ]
  },
  {
   "cell_type": "code",
   "execution_count": null,
   "metadata": {},
   "outputs": [],
   "source": [
    "def input_to_hidden(x):    # defining function for the dot product b/w input and its weights \n",
    "    a = np.dot(x, Win)\n",
    "    a = np.maximum(a, 0, a) # Implementation of ReLU activation function\n",
    "    return a"
   ]
  },
  {
   "cell_type": "code",
   "execution_count": null,
   "metadata": {},
   "outputs": [],
   "source": [
    "def predict(x):\n",
    "    x = input_to_hidden(x)\n",
    "    y = np.dot(x, Wout)\n",
    "    return y"
   ]
  },
  {
   "cell_type": "code",
   "execution_count": null,
   "metadata": {},
   "outputs": [],
   "source": [
    "    #Training process of ELM model\n",
    "    start = time.time()\n",
    "    X = input_to_hidden(trainX)\n",
    "    Xt = np.transpose(X)\n",
    "    Wout = np.dot(np.linalg.inv(np.dot(Xt, X)), np.dot(Xt, trainY))\n",
    "    print('Output weights shape: {shape}'.format(shape=Wout.shape))\n",
    "    print ('Total Training Time is: %s seconds ' % (time.time()-start))"
   ]
  },
  {
   "cell_type": "code",
   "execution_count": null,
   "metadata": {},
   "outputs": [],
   "source": [
    "y = predict(testX)        #predict test data\n",
    "gr_labs = []              #ground truths\n",
    "pred_labs = []            # predicted labels\n",
    "correct = 0\n",
    "total = y.shape[0]\n",
    "for i in range(total):\n",
    "        predicted = np.argmax(y[i])\n",
    "        test = np.argmax(testY[i])\n",
    "        #print(test)\n",
    "        gr_labs.append(test)\n",
    "        pred_labs.append(predicted)\n",
    "        correct = correct + (1 if predicted == test else 0)\n",
    "        Acc=correct/total\n",
    "print('Accuracy: {:f}'.format(correct/total))"
   ]
  },
  {
   "cell_type": "code",
   "execution_count": null,
   "metadata": {},
   "outputs": [],
   "source": [
    "print(classification_report(gr_labs,  pred_labs, target_names=Classes_names))   "
   ]
  },
  {
   "cell_type": "code",
   "execution_count": null,
   "metadata": {},
   "outputs": [],
   "source": [
    "matrix = confusion_matrix(gr_labs,  pred_labs)"
   ]
  },
  {
   "cell_type": "code",
   "execution_count": null,
   "metadata": {},
   "outputs": [],
   "source": [
    "#Prepared code that is taken from SKLearn Website, Creates Confusion Matrix\n",
    "def plot_confusion_matrix(cm, Classes_names,\n",
    "                          normalize=False,\n",
    "                          title='Confusion matrix',\n",
    "                          cmap=plt.cm.Blues):\n",
    "    \"\"\"\n",
    "    This function prints and plots the confusion matrix.\n",
    "    Normalization can be applied by setting `normalize=True`.\n",
    "    \"\"\"\n",
    "    plt.rcParams.update({'font.size': 16})\n",
    "    if normalize:\n",
    "        cm = cm.astype('float') / cm.sum(axis=1)[:, np.newaxis]\n",
    "        print(\"Normalized confusion matrix\")\n",
    "    else:\n",
    "        print('Confusion matrix, without normalization')\n",
    "\n",
    "    print(cm)\n",
    "\n",
    "    plt.imshow(cm, interpolation='nearest', cmap=cmap)\n",
    "    plt.title(title,fontsize=20)\n",
    "    plt.colorbar()\n",
    "    tick_marks = np.arange(len(Classes_names))\n",
    "    plt.xticks(tick_marks, Classes_names, rotation=45,fontsize=18,weight = 'bold')\n",
    "    plt.yticks(tick_marks, Classes_names,fontsize=18,weight = 'bold')\n",
    "\n",
    "    fmt = '.2f' if normalize else 'd'\n",
    "    thresh = cm.max() / 2.\n",
    "    for i, j in itertools.product(range(cm.shape[0]), range(cm.shape[1])):\n",
    "        plt.text(j, i, format(cm[i, j], fmt),\n",
    "                 horizontalalignment=\"center\",\n",
    "                 fontsize=16,\n",
    "                 color=\"white\" if cm[i, j] > thresh else \"black\")\n",
    "\n",
    "    plt.tight_layout()\n",
    "    plt.ylabel('True label',fontsize=20, weight = 'bold')\n",
    "    plt.xlabel('Predicted label',fontsize=20, weight = 'bold')"
   ]
  },
  {
   "cell_type": "code",
   "execution_count": null,
   "metadata": {},
   "outputs": [],
   "source": [
    "from matplotlib.pyplot import figure\n",
    "figure(figsize=(20,20), dpi=200)\n",
    "cm_plot_labels = Classes_names\n",
    "plot_confusion_matrix(matrix,cm_plot_labels, normalize=False\n",
    "                      , title = 'Confusion Matrix')\n"
   ]
  }
 ],
 "metadata": {
  "kernelspec": {
   "display_name": "Python 3 (ipykernel)",
   "language": "python",
   "name": "python3"
  },
  "language_info": {
   "codemirror_mode": {
    "name": "ipython",
    "version": 3
   },
   "file_extension": ".py",
   "mimetype": "text/x-python",
   "name": "python",
   "nbconvert_exporter": "python",
   "pygments_lexer": "ipython3",
   "version": "3.9.12"
  }
 },
 "nbformat": 4,
 "nbformat_minor": 4
}
